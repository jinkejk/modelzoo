{
 "cells": [
  {
   "cell_type": "code",
   "execution_count": 1,
   "metadata": {},
   "outputs": [
    {
     "name": "stdout",
     "output_type": "stream",
     "text": [
      "Ready\n"
     ]
    }
   ],
   "source": [
    "import os\n",
    "import glob\n",
    "import pickle\n",
    "import shutil\n",
    "from tqdm.notebook import tqdm\n",
    "\n",
    "\n",
    "source_data_folder = '../300w_lp/data'\n",
    "metadata_file = '../300w_lp/workspace/300w_lp.pkl'\n",
    "ibug_300w_dest_folder = os.path.realpath('./data/300w')\n",
    "ibug_300w_lp_dest_folder = os.path.realpath('./data/300w_lp')\n",
    "print('Ready')"
   ]
  },
  {
   "cell_type": "code",
   "execution_count": 2,
   "metadata": {},
   "outputs": [
    {
     "name": "stdout",
     "output_type": "stream",
     "text": [
      "Metadata loaded.\n"
     ]
    }
   ],
   "source": [
    "# Load metadata\n",
    "with open(metadata_file, 'rb') as f:\n",
    "    all_300w_samples = pickle.load(f)\n",
    "print('Metadata loaded.')"
   ]
  },
  {
   "cell_type": "code",
   "execution_count": 3,
   "metadata": {},
   "outputs": [
    {
     "data": {
      "application/vnd.jupyter.widget-view+json": {
       "model_id": "dd15681afb514d6ba2e4e869aa13043e",
       "version_major": 2,
       "version_minor": 0
      },
      "text/plain": [
       "  0%|          | 0/11747 [00:00<?, ?it/s]"
      ]
     },
     "metadata": {},
     "output_type": "display_data"
    }
   ],
   "source": [
    "# Copy cropped 300w images and pts files\n",
    "if os.path.exists(ibug_300w_dest_folder):\n",
    "    shutil.rmtree(ibug_300w_dest_folder)\n",
    "all_subsets = [os.path.basename(x) for x in glob.glob(os.path.join(source_data_folder, '300w',\n",
    "                                                                   'cropped_organised', '*'))\n",
    "               if os.path.isdir(x)]\n",
    "with open(os.path.join(ibug_300w_dest_folder + '.tsv'), 'w') as f:\n",
    "    f.write('subset\\tsplit\\taug_idx\\tim_path\\tpts_path\\t' +\n",
    "            'face_box_left\\tface_box_top\\tface_box_right\\tface_box_bottom\\n')\n",
    "    for sample in tqdm(all_300w_samples):\n",
    "        src_im_path = os.path.realpath(sample['cropped_im_path'])\n",
    "        src_pts_path = os.path.realpath(sample['cropped_pts_path'])\n",
    "        im_name = os.path.basename(src_im_path)\n",
    "        pts_name = os.path.basename(src_pts_path)\n",
    "        subset = os.path.basename(os.path.dirname(src_im_path))\n",
    "        if subset in all_subsets:\n",
    "            split = ''\n",
    "        else:\n",
    "            split = subset\n",
    "            subset = os.path.basename(os.path.dirname(os.path.dirname(src_im_path)))\n",
    "        dest_im_path = os.path.join(ibug_300w_dest_folder, subset, split, im_name)\n",
    "        dest_pts_path = os.path.join(ibug_300w_dest_folder, subset, split, pts_name)\n",
    "        f.write(f\"{subset}\\t{split}\\t-1\\t\" +\n",
    "                f\"{os.path.relpath(dest_im_path, os.path.dirname(ibug_300w_dest_folder))}\\t\" +\n",
    "                f\"{os.path.relpath(dest_pts_path, os.path.dirname(ibug_300w_dest_folder))}\\t\"\n",
    "                f\"{sample['cropped_face_box'][0]:f}\\t{sample['cropped_face_box'][1]:f}\\t\" +\n",
    "                f\"{sample['cropped_face_box'][2]:f}\\t{sample['cropped_face_box'][3]:f}\\n\")\n",
    "        os.makedirs(os.path.dirname(dest_im_path), exist_ok=True)\n",
    "        shutil.copyfile(src_im_path, dest_im_path)\n",
    "        shutil.copyfile(src_pts_path, dest_pts_path)"
   ]
  },
  {
   "cell_type": "code",
   "execution_count": 12,
   "metadata": {},
   "outputs": [
    {
     "data": {
      "application/vnd.jupyter.widget-view+json": {
       "model_id": "5c43a7ed8614469ca430e682fc3930d8",
       "version_major": 2,
       "version_minor": 0
      },
      "text/plain": [
       "  0%|          | 0/11747 [00:00<?, ?it/s]"
      ]
     },
     "metadata": {},
     "output_type": "display_data"
    }
   ],
   "source": [
    "# Copy cropped 300w-lp images and pts files\n",
    "if os.path.exists(ibug_300w_lp_dest_folder):\n",
    "    shutil.rmtree(ibug_300w_lp_dest_folder)\n",
    "all_subsets = [os.path.basename(x) for x in glob.glob(os.path.join(source_data_folder, '300w_lp',\n",
    "                                                                   'cropped_organised', '*'))\n",
    "               if os.path.isdir(x)]\n",
    "with open(os.path.join(ibug_300w_lp_dest_folder + '.tsv'), 'w') as f:\n",
    "    f.write('subset\\tsplit\\taug_idx\\tim_path\\tpts_path\\t' +\n",
    "            'face_box_left\\tface_box_top\\tface_box_right\\tface_box_bottom\\n')\n",
    "    for sample in tqdm(all_300w_samples):\n",
    "        for aug in sample['augmentations']:\n",
    "            src_im_path = os.path.realpath(aug['cropped_im_path'])\n",
    "            src_pts_path = os.path.realpath(aug['cropped_pts_path'])\n",
    "            im_name = os.path.basename(src_im_path)\n",
    "            pts_name = os.path.basename(src_pts_path)\n",
    "            subset = os.path.basename(os.path.dirname(src_im_path))\n",
    "            if subset in all_subsets:\n",
    "                split = ''\n",
    "            else:\n",
    "                split = subset\n",
    "                subset = os.path.basename(os.path.dirname(os.path.dirname(src_im_path)))\n",
    "            dest_im_path = os.path.join(ibug_300w_lp_dest_folder, subset, split, im_name)\n",
    "            dest_pts_path = os.path.join(ibug_300w_lp_dest_folder, subset, split, pts_name)\n",
    "            aug_idx = int(os.path.splitext(im_name)[0].split('.')[-1][1:]) // 5\n",
    "            f.write(f\"{subset}\\t{split}\\t{aug_idx:d}\\t\" +\n",
    "                    f\"{os.path.relpath(dest_im_path, os.path.dirname(ibug_300w_dest_folder))}\\t\" +\n",
    "                    f\"{os.path.relpath(dest_pts_path, os.path.dirname(ibug_300w_dest_folder))}\\t\"\n",
    "                    f\"{aug['cropped_face_box'][0]:f}\\t{aug['cropped_face_box'][1]:f}\\t\" +\n",
    "                    f\"{aug['cropped_face_box'][2]:f}\\t{aug['cropped_face_box'][3]:f}\\n\")\n",
    "            os.makedirs(os.path.dirname(dest_im_path), exist_ok=True)\n",
    "            shutil.copyfile(src_im_path, dest_im_path)\n",
    "            shutil.copyfile(src_pts_path, dest_pts_path)"
   ]
  }
 ],
 "metadata": {
  "kernelspec": {
   "display_name": "Python 3",
   "language": "python",
   "name": "python3"
  },
  "language_info": {
   "codemirror_mode": {
    "name": "ipython",
    "version": 3
   },
   "file_extension": ".py",
   "mimetype": "text/x-python",
   "name": "python",
   "nbconvert_exporter": "python",
   "pygments_lexer": "ipython3",
   "version": "3.7.4"
  }
 },
 "nbformat": 4,
 "nbformat_minor": 4
}
